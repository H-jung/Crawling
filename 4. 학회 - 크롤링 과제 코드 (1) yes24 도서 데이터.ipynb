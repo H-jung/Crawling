{
 "cells": [
  {
   "cell_type": "markdown",
   "metadata": {},
   "source": [
    "## Deep Session 4차시 Crawling"
   ]
  },
  {
   "cell_type": "markdown",
   "metadata": {},
   "source": [
    "### 20182827 임현정"
   ]
  },
  {
   "cell_type": "code",
   "execution_count": 46,
   "metadata": {},
   "outputs": [],
   "source": [
    "from selenium import webdriver\n",
    "from urllib.request import urlretrieve\n",
    "import openpyxl"
   ]
  },
  {
   "cell_type": "code",
   "execution_count": 65,
   "metadata": {
    "scrolled": true
   },
   "outputs": [],
   "source": [
    "dr = webdriver.Chrome()\n",
    "keyword = \"python\"\n",
    "# csv파일\n",
    "f = open('20182827_임현정_4차시 csv파일.csv','w')\n",
    "f.write('책제목,저자,가격,판매지수,리뷰 수,별점 점수,사이트 링크')\n",
    "\n",
    "# xlsx파일\n",
    "wb = openpyxl.Workbook()\n",
    "sheet = wb.active\n",
    "sheet.append('책제목,저자,가격,판매지수,리뷰 수,별점 점수,사이트 링크'.split(','))\n",
    "\n",
    "num = 1\n",
    "\n",
    "for page in range(10):\n",
    "    url = \"http://www.yes24.com/searchcorner/Search?keywordAd=&keyword=&domain=ALL&qdomain=%c0%fc%c3%bc&query=\"+keyword+\"&PageNumber=\"+str(page+1)+\"&scode=012\"\n",
    "    dr.get(url)\n",
    "    books = dr.find_elements_by_css_selector('tr')\n",
    "    for book in books:\n",
    "        # 이미지\n",
    "        try:\n",
    "            image = book.find_element_by_css_selector('td .img_bdr').find_element_by_tag_name('img').get_attribute('src')\n",
    "        except:\n",
    "            continue\n",
    "        # 제목\n",
    "        title = book.find_element_by_css_selector('.goods_name a').text.replace(',',' ')\n",
    "        # 저자\n",
    "        author = book.find_element_by_css_selector('.goods_info a').text.replace(',',' ')\n",
    "        # 가격\n",
    "        price = int(book.find_element_by_css_selector('.goods_price .yes_b').text.replace(',',''))\n",
    "        # 판매지수 & 회원리뷰\n",
    "        try :\n",
    "            reviews = book.find_element_by_css_selector('.goods_rating .gd_reviewCount').text\n",
    "            sale = reviews.split('|')[0].split(' ')[1].replace(',','')\n",
    "            try :\n",
    "                review = int(''.join([i for i in reviews.split('|')[1] if i.isdigit()]))\n",
    "            except:\n",
    "                review = '정보없음'\n",
    "        except:\n",
    "            sale = '정보없음'\n",
    "            review = '정보없음'\n",
    "        # 별점 점수\n",
    "        try :\n",
    "            rating = book.find_element_by_css_selector('.goods_rating .yes_b').text\n",
    "        except :\n",
    "            rating = '정보없음'\n",
    "        # 사이트 링크\n",
    "        link = book.find_element_by_css_selector('.goods_name a').get_attribute('href')\n",
    "        \n",
    "#         print(image, title, author, price, sale, review, rating, link)\n",
    "        urlretrieve(image, './books/책_{}.png'.format(num))\n",
    "        num += 1\n",
    "        f.write('\\n{},{},{},{},{},{},{}'.format(title,author,price,sale,review,rating,link))\n",
    "        sheet.append([i for i in [title,author,price,sale,review,rating,link]])\n",
    "\n",
    "wb.save('20182827_임현정_4차시 xlsx파일.xlsx')\n",
    "dr.close()\n",
    "f.close()"
   ]
  },
  {
   "cell_type": "code",
   "execution_count": null,
   "metadata": {},
   "outputs": [],
   "source": []
  },
  {
   "cell_type": "code",
   "execution_count": null,
   "metadata": {},
   "outputs": [],
   "source": []
  }
 ],
 "metadata": {
  "kernelspec": {
   "display_name": "Python 3",
   "language": "python",
   "name": "python3"
  },
  "language_info": {
   "codemirror_mode": {
    "name": "ipython",
    "version": 3
   },
   "file_extension": ".py",
   "mimetype": "text/x-python",
   "name": "python",
   "nbconvert_exporter": "python",
   "pygments_lexer": "ipython3",
   "version": "3.7.6"
  }
 },
 "nbformat": 4,
 "nbformat_minor": 4
}
