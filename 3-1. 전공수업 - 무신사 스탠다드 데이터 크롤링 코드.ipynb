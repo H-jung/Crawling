{
 "cells": [
  {
   "cell_type": "code",
   "execution_count": 1,
   "metadata": {},
   "outputs": [],
   "source": [
    "from selenium.webdriver import Chrome\n",
    "from selenium.webdriver.support.ui import WebDriverWait\n",
    "from selenium.webdriver.common.by import By\n",
    "from selenium.webdriver.support import expected_conditions as EC\n",
    "from datetime import datetime, timedelta\n",
    "import pandas as pd\n",
    "import time\n",
    "import openpyxl"
   ]
  },
  {
   "cell_type": "code",
   "execution_count": 2,
   "metadata": {},
   "outputs": [],
   "source": [
    "browser = Chrome()\n",
    "\n",
    "browser.get('https://store.musinsa.com/') #무신사 스토어\n",
    "\n",
    "# browser.find_element_by_css_selector('span#search_button').click()\n",
    "search_keyword = browser.find_element_by_css_selector('input#search_query')\n",
    "search_keyword.click()\n",
    "search_keyword.send_keys('무신사 스탠다드')\n",
    "search_keyword.submit()\n",
    "\n",
    "browser.find_element_by_css_selector('a.brand-shop__link').click()\n",
    "\n",
    "categories = browser.find_elements_by_css_selector('li.categoty_tab a.title')\n",
    "for category in categories:\n",
    "    if '후기' in category.text:\n",
    "        category.click()"
   ]
  },
  {
   "cell_type": "code",
   "execution_count": 3,
   "metadata": {
    "scrolled": true
   },
   "outputs": [],
   "source": [
    "# xlsx파일\n",
    "# 뉴스 내용에 ','가 들어가 있는 경우, csv 파일로는 정상적으로 저장할 수 없다고 판단 -> xlsx 파일로 저장\n",
    "wb = openpyxl.Workbook()\n",
    "sheet = wb.active\n",
    "sheet.append('이름,성별,별점,내용'.split(','))\n",
    "\n",
    "myDate = pd.to_datetime(datetime.today() - timedelta(days = 365)) # 1년 전 리뷰까지 가져옴.\n",
    "while True:\n",
    "    pages = browser.find_elements_by_css_selector('.sorter-box a.paging-btn')\n",
    "    page_num = [page.get_attribute('data-page') for page in pages]\n",
    "    for i in range(1,len(page_num)):\n",
    "        browser.execute_script(\"window.scrollTo(0, 500)\")\n",
    "        WebDriverWait(browser, 20).until(EC.element_to_be_clickable((By.CSS_SELECTOR, f\".sorter-box a.paging-btn[data-page^='{page_num[i]}']\"))).click()\n",
    "\n",
    "        if i == len(page_num)-1:\n",
    "            continue\n",
    "            \n",
    "#         print('page='+page_num[i])\n",
    "        \n",
    "        reviews = browser.find_elements_by_css_selector('div.postContents')\n",
    "        for review in reviews:\n",
    "            try:\n",
    "                name = review.find_element_by_css_selector('.list_info.p_name').text\n",
    "            except:\n",
    "                name = '답변없음'\n",
    "            try:\n",
    "                gender = review.find_element_by_css_selector('.estimate-profile').text.split(',')[0]\n",
    "            except:\n",
    "                gender = '답변없음'\n",
    "            content = review.find_element_by_css_selector('div.summary span.content-review').text\n",
    "            try:\n",
    "                review.find_element_by_css_selector('span.score.score10')\n",
    "                star = 5\n",
    "            except:\n",
    "                try:\n",
    "                    review.find_element_by_css_selector('span.score.score8')\n",
    "                    star = 4\n",
    "                except:\n",
    "                    try:\n",
    "                        review.find_element_by_css_selector('span.score.score6')\n",
    "                        star = 3\n",
    "                    except:\n",
    "                        try:\n",
    "                            review.find_element_by_css_selector('span.score.score4')\n",
    "                            star = 2\n",
    "                        except:\n",
    "                            try:\n",
    "                                review.find_element_by_css_selector('span.score.score2')\n",
    "                                star = 1\n",
    "                            except:\n",
    "                                star = 0\n",
    "                                \n",
    "            try:\n",
    "                date = pd.to_datetime(review.find_element_by_css_selector('div.profile span.date').text,format='%y.%m.%d')\n",
    "            except:\n",
    "                date = pd.to_datetime(datetime.today())\n",
    "            \n",
    "            try:\n",
    "                sheet.append([i for i in [name, gender, star, content]])\n",
    "            except:\n",
    "                continue\n",
    "    \n",
    "    if date <= myDate:\n",
    "        break\n",
    "        \n",
    "wb.save('Musinsa_standard.xlsx')\n",
    "browser.close()"
   ]
  },
  {
   "cell_type": "code",
   "execution_count": null,
   "metadata": {},
   "outputs": [],
   "source": []
  }
 ],
 "metadata": {
  "kernelspec": {
   "display_name": "Python 3",
   "language": "python",
   "name": "python3"
  },
  "language_info": {
   "codemirror_mode": {
    "name": "ipython",
    "version": 3
   },
   "file_extension": ".py",
   "mimetype": "text/x-python",
   "name": "python",
   "nbconvert_exporter": "python",
   "pygments_lexer": "ipython3",
   "version": "3.7.6"
  }
 },
 "nbformat": 4,
 "nbformat_minor": 4
}
